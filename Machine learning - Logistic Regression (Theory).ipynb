{
 "cells": [
  {
   "cell_type": "markdown",
   "id": "76abe926",
   "metadata": {},
   "source": [
    "# Logistic Regression "
   ]
  },
  {
   "cell_type": "markdown",
   "id": "cb521143",
   "metadata": {},
   "source": [
    "Logistic regression is a supervised machine learning algorithm used for classification tasks where the goal is to predict the probability that an instance belongs to a given class or not. \n",
    "\n",
    "Logistic regression is a statistical algorithm which analyze the relationship between two data factors.\n",
    "\n",
    "\n",
    "Logistic regression is used for binary classification where we use sigmoid function, that takes input as independent variables and produces a probability value between 0 and 1."
   ]
  },
  {
   "cell_type": "markdown",
   "id": "9b98592e",
   "metadata": {},
   "source": [
    " For example, we have two classes Class 0 and Class 1 if the value of the logistic function for an input is greater than 0.5 (threshold value) then it belongs to Class 1 otherwise it belongs to Class 0. It’s referred to as regression because it is the extension of linear regression but is mainly used for classification problems."
   ]
  },
  {
   "cell_type": "markdown",
   "id": "b62f0f87",
   "metadata": {},
   "source": [
    "#### Key Points:\n",
    "Logistic regression predicts the output of a categorical dependent variable. Therefore, the outcome must be a categorical or discrete value.\n",
    "\n",
    "It can be either Yes or No, 0 or 1, true or False, etc. but instead of giving the exact value as 0 and 1, it gives the probabilistic values which lie between 0 and 1.\n",
    "\n",
    "In Logistic regression, instead of fitting a regression line, we fit an “S” shaped logistic function, which predicts two maximum values (0 or 1)."
   ]
  },
  {
   "cell_type": "markdown",
   "id": "a86e5b91",
   "metadata": {},
   "source": [
    "# Logistic Function – Sigmoid Function\n",
    "The sigmoid function is a mathematical function used to map the predicted values to probabilities.\n",
    "\n",
    "It maps any real value into another value within a range of 0 and 1. The value of the logistic regression must be between 0 and 1, which cannot go beyond this limit, so it forms a curve like the “S” form.\n",
    "\n",
    "The S-form curve is called the Sigmoid function or the logistic function.\n",
    "\n",
    "In logistic regression, we use the concept of the threshold value, which defines the probability of either 0 or 1. Such as values above the threshold value tends to 1, and a value below the threshold values tends to 0."
   ]
  },
  {
   "cell_type": "markdown",
   "id": "88d084ef",
   "metadata": {},
   "source": [
    "# Types of Logistic Regression\n",
    "On the basis of the categories, Logistic Regression can be classified into three types:\n",
    "\n",
    "Binomial: In binomial Logistic regression, there can be only two possible types of the dependent variables, such as 0 or 1, Pass or Fail, etc.\n",
    "\n",
    "Multinomial: In multinomial Logistic regression, there can be 3 or more possible unordered types of the dependent variable, such as “cat”, “dogs”, or “sheep”\n",
    "\n",
    "Ordinal: In ordinal Logistic regression, there can be 3 or more possible ordered types of dependent variables, such as “low”, “Medium”, or “High”."
   ]
  },
  {
   "cell_type": "markdown",
   "id": "1e6a064d",
   "metadata": {},
   "source": [
    "# Assumptions of Logistic Regression\n",
    "We will explore the assumptions of logistic regression as understanding these assumptions is important to ensure that we are using appropriate application of the model. The assumption include:\n",
    "\n",
    "Independent observations: Each observation is independent of the other. meaning there is no correlation between any input variables.\n",
    "\n",
    "Binary dependent variables: It takes the assumption that the dependent variable must be binary or dichotomous, meaning it can take only two values. For more than two categories SoftMax functions are used.\n",
    "\n",
    "Linearity relationship between independent variables and log odds: The relationship between the independent variables and the log odds of the dependent variable should be linear.\n",
    "\n",
    "No outliers: There should be no outliers in the dataset.\n",
    "\n",
    "Large sample size: The sample size is sufficiently large"
   ]
  },
  {
   "cell_type": "markdown",
   "id": "5bff0966",
   "metadata": {},
   "source": [
    "# Terminologies involved in Logistic Regression\n",
    "Here are some common terms involved in logistic regression:\n",
    "\n",
    "Independent variables: The input characteristics or predictor factors applied to the dependent variable’s predictions.\n",
    "Dependent variable: The target variable in a logistic regression model, which we are trying to predict.\n",
    "\n",
    "Logistic function: The formula used to represent how the independent and dependent variables relate to one another. The logistic function transforms the input variables into a probability value between 0 and 1, which represents the likelihood of the dependent variable being 1 or 0.\n",
    "\n",
    "Odds: It is the ratio of something occurring to something not occurring. it is different from probability as the probability is the ratio of something occurring to everything that could possibly occur.\n",
    "\n",
    "Log-odds: The log-odds, also known as the logit function, is the natural logarithm of the odds. In logistic regression, the log odds of the dependent variable are modeled as a linear combination of the independent variables and the intercept.\n",
    "Coefficient: The logistic regression model’s estimated parameters, show how the independent and dependent variables relate to one another.\n",
    "\n",
    "Intercept: A constant term in the logistic regression model, which represents the log odds when all independent variables are equal to zero.\n",
    "\n",
    "Maximum likelihood estimation: The method used to estimate the coefficients of the logistic regression model, which maximizes the likelihood of observing the data given the model."
   ]
  },
  {
   "cell_type": "markdown",
   "id": "0329fef2",
   "metadata": {},
   "source": [
    "z=w⋅X+b"
   ]
  },
  {
   "cell_type": "code",
   "execution_count": 1,
   "id": "4bb2f665",
   "metadata": {},
   "outputs": [
    {
     "name": "stdout",
     "output_type": "stream",
     "text": [
      "Logistic Regression model accuracy (in %): 95.6140350877193\n"
     ]
    },
    {
     "name": "stderr",
     "output_type": "stream",
     "text": [
      "C:\\Users\\Admin\\anaconda3\\Lib\\site-packages\\sklearn\\linear_model\\_logistic.py:460: ConvergenceWarning: lbfgs failed to converge (status=1):\n",
      "STOP: TOTAL NO. of ITERATIONS REACHED LIMIT.\n",
      "\n",
      "Increase the number of iterations (max_iter) or scale the data as shown in:\n",
      "    https://scikit-learn.org/stable/modules/preprocessing.html\n",
      "Please also refer to the documentation for alternative solver options:\n",
      "    https://scikit-learn.org/stable/modules/linear_model.html#logistic-regression\n",
      "  n_iter_i = _check_optimize_result(\n"
     ]
    }
   ],
   "source": [
    "from sklearn.datasets import load_breast_cancer\n",
    "from sklearn.linear_model import LogisticRegression\n",
    "from sklearn.model_selection import train_test_split\n",
    "from sklearn.metrics import accuracy_score\n",
    "\n",
    "# load the breast cancer dataset\n",
    "X, y = load_breast_cancer(return_X_y=True)\n",
    "\n",
    "# split the train and test dataset\n",
    "X_train, X_test,\\\n",
    "    y_train, y_test = train_test_split(X, y,\n",
    "                                       test_size=0.20,\n",
    "                                       random_state=23)\n",
    "# LogisticRegression\n",
    "clf = LogisticRegression(random_state=0)\n",
    "clf.fit(X_train, y_train)\n",
    "\n",
    "# Prediction\n",
    "y_pred = clf.predict(X_test)\n",
    "\n",
    "acc = accuracy_score(y_test, y_pred)\n",
    "print(\"Logistic Regression model accuracy (in %):\", acc*100)"
   ]
  },
  {
   "cell_type": "code",
   "execution_count": null,
   "id": "0a427b85",
   "metadata": {},
   "outputs": [],
   "source": []
  }
 ],
 "metadata": {
  "kernelspec": {
   "display_name": "Python 3 (ipykernel)",
   "language": "python",
   "name": "python3"
  },
  "language_info": {
   "codemirror_mode": {
    "name": "ipython",
    "version": 3
   },
   "file_extension": ".py",
   "mimetype": "text/x-python",
   "name": "python",
   "nbconvert_exporter": "python",
   "pygments_lexer": "ipython3",
   "version": "3.11.5"
  }
 },
 "nbformat": 4,
 "nbformat_minor": 5
}
