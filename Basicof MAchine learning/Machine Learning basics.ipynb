{
 "cells": [
  {
   "cell_type": "markdown",
   "id": "53eb5ef5",
   "metadata": {},
   "source": [
    "# Machine Learning "
   ]
  },
  {
   "cell_type": "markdown",
   "id": "8988c52a",
   "metadata": {},
   "source": [
    "Machine Learning is making the computer learn from studying data and statistics.\n",
    "\n",
    "Machine Learning is a step into the direction of artificial intelligence (AI).\n",
    "\n",
    "Machine Learning is a program that analyses data and learns to predict the outcome."
   ]
  },
  {
   "cell_type": "markdown",
   "id": "6998f11c",
   "metadata": {},
   "source": [
    "### Data Set\n",
    "In the mind of a computer, a data set is any collection of data. It can be anything from an array to a complete database.\n",
    "\n",
    "Example of an array:\n",
    "\n",
    "[99,86,87,88,111,86,103,87,94,78,77,85,86]"
   ]
  },
  {
   "cell_type": "markdown",
   "id": "94a61f00",
   "metadata": {},
   "source": [
    "### Data Types\n",
    "To analyze data, it is important to know what type of data we are dealing with.\n",
    "\n",
    "We can split the data types into three main categories:\n",
    "\n",
    "Numerical\n",
    "\n",
    "Categorical\n",
    "\n",
    "Ordinal\n",
    "\n",
    "Numerical data are numbers, and can be split into two numerical categories:\n",
    "\n",
    "Discrete Data\n",
    "- counted data that are limited to integers. Example: The number of cars passing by.\n",
    "Continuous Data\n",
    "\n",
    "- measured data that can be any number. Example: The price of an item, or the size of an item\n",
    "Categorical data are values that cannot be measured up against each other. Example: a color value, or any yes/no values.\n",
    "\n",
    "Ordinal data are like categorical data, but can be measured up against each other. Example: school grades where A is better than B and so on.\n",
    "\n",
    "By knowing the data type of your data source, you will be able to know what technique to use when analyzing them.\n",
    "\n",
    "You will learn more about statistics and analyzing data in the next chapters.\n"
   ]
  },
  {
   "cell_type": "markdown",
   "id": "f93940d5",
   "metadata": {},
   "source": [
    "### Techniques in Machine Learning\n",
    "Machine Learning techniques are divided mainly into the following 4 categories:\n",
    "\n",
    "1. Supervised Learning\n",
    "\n",
    "Supervised learning is applicable when a machine has sample data, i.e., input as well as output data with correct labels. Correct labels are used to check the correctness of the model using some labels and tags. Supervised learning technique helps us to predict future events with the help of past experience and labeled examples. Initially, it analyses the known training dataset, and later it introduces an inferred function that makes predictions about output values. Further, it also predicts errors during this entire learning process and also corrects those errors through algorithms.\n",
    "\n",
    "Example: Let's assume we have a set of images tagged as ''dog''. A machine learning algorithm is trained with these dog images so it can easily distinguish whether an image is a dog or not.\n",
    "\n",
    "2. Unsupervised Learning\n",
    "\n",
    "In unsupervised learning, a machine is trained with some input samples or labels only, while output is not known. The training information is neither classified nor labeled; hence, a machine may not always provide correct output compared to supervised learning.\n",
    "\n",
    "Although Unsupervised learning is less common in practical business settings, it helps in exploring the data and can draw inferences from datasets to describe hidden structures from unlabeled data.\n",
    "\n",
    "Example: Let's assume a machine is trained with some set of documents having different categories (Type A, B, and C), and we have to organize them into appropriate groups. Because the machine is provided only with input samples or without output, so, it can organize these datasets into type A, type B, and type C categories, but it is not necessary whether it is organized correctly or not.\n",
    "ADVERTISEMENT\n",
    "\n",
    "ADVERTISEMENT\n",
    "\n",
    "\n",
    "3. Reinforcement Learning\n",
    "\n",
    "Reinforcement Learning is a feedback-based machine learning technique. In such type of learning, agents (computer programs) need to explore the environment, perform actions, and on the basis of their actions, they get rewards as feedback. For each good action, they get a positive reward, and for each bad action, they get a negative reward. The goal of a Reinforcement learning agent is to maximize the positive rewards. Since there is no labeled data, the agent is bound to learn by its experience only.\n",
    "\n",
    "4. Semi-supervised Learning\n",
    "Semi-supervised Learning is an intermediate technique of both supervised and unsupervised learning. It performs actions on datasets having few labels as well as unlabeled data. However, it generally contains unlabeled data. Hence, it also reduces the cost of the machine learning model as labels are costly, but for corporate purposes, it may have few labels. Further, it also increases the accuracy and performance of the machine learning model.\n",
    "\n",
    "Sem-supervised learning helps data scientists to overcome the drawback of supervised and unsupervised learning. Speech analysis, web content classification, protein sequence classification, text documents classifiers., etc., are some important applications of Semi-supervised learning.\n",
    "\n"
   ]
  },
  {
   "cell_type": "markdown",
   "id": "c83a3aca",
   "metadata": {},
   "source": [
    "# Machine learning Life cycle\n",
    "Machine learning has given the computer systems the abilities to automatically learn without being explicitly programmed. But how does a machine learning system work? So, it can be described using the life cycle of machine learning. Machine learning life cycle is a cyclic process to build an efficient machine learning project. The main purpose of the life cycle is to find a solution to the problem or project.\n",
    "\n",
    "Machine learning life cycle involves seven major steps, which are given below:\n",
    "\n",
    "\n",
    "Gathering Data\n",
    "\n",
    "Data preparation\n",
    "\n",
    "Data Wrangling\n",
    "\n",
    "Analyse Data\n",
    "\n",
    "Train the model\n",
    "\n",
    "Test the model\n",
    "\n",
    "Deployment\n"
   ]
  },
  {
   "cell_type": "code",
   "execution_count": null,
   "id": "08ff72ae",
   "metadata": {},
   "outputs": [],
   "source": []
  }
 ],
 "metadata": {
  "kernelspec": {
   "display_name": "Python 3 (ipykernel)",
   "language": "python",
   "name": "python3"
  },
  "language_info": {
   "codemirror_mode": {
    "name": "ipython",
    "version": 3
   },
   "file_extension": ".py",
   "mimetype": "text/x-python",
   "name": "python",
   "nbconvert_exporter": "python",
   "pygments_lexer": "ipython3",
   "version": "3.11.5"
  }
 },
 "nbformat": 4,
 "nbformat_minor": 5
}
