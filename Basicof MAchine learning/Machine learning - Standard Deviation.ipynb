{
 "cells": [
  {
   "cell_type": "markdown",
   "id": "208524ce",
   "metadata": {},
   "source": [
    "# What is Standard Deviation?\n",
    "Standard deviation is a number that describes how spread out the values are.\n",
    "\n",
    "A low standard deviation means that most of the numbers are close to the mean (average) value.\n",
    "\n",
    "A high standard deviation means that the values are spread out over a wider range.\n",
    "\n",
    "Example: This time we have registered the speed of 7 cars:"
   ]
  },
  {
   "cell_type": "code",
   "execution_count": 1,
   "id": "38b9c4eb",
   "metadata": {},
   "outputs": [],
   "source": [
    "import numpy as np\n",
    "import pandas as pd \n",
    "from scipy import stats\n"
   ]
  },
  {
   "cell_type": "code",
   "execution_count": 2,
   "id": "22cef417",
   "metadata": {},
   "outputs": [
    {
     "name": "stdout",
     "output_type": "stream",
     "text": [
      "9.258292301032677\n"
     ]
    }
   ],
   "source": [
    "marks=[99,86,87,88,111,86,103,87,94,78,77,85,86]\n",
    "a=np.std(marks)\n",
    "print(a)"
   ]
  },
  {
   "cell_type": "code",
   "execution_count": 3,
   "id": "c0ce16aa",
   "metadata": {},
   "outputs": [
    {
     "name": "stdout",
     "output_type": "stream",
     "text": [
      "37.84501153334721\n"
     ]
    }
   ],
   "source": [
    "marks=[32,111,138,28,59,77,97]\n",
    "b=np.std(marks)\n",
    "print(b)"
   ]
  },
  {
   "cell_type": "code",
   "execution_count": 4,
   "id": "b1eaedb1",
   "metadata": {},
   "outputs": [
    {
     "name": "stdout",
     "output_type": "stream",
     "text": [
      "0.9035079029052513\n"
     ]
    }
   ],
   "source": [
    "speed = [86,87,88,86,87,85,86]\n",
    "x = np.std(speed)\n",
    "print(x)"
   ]
  },
  {
   "cell_type": "markdown",
   "id": "da6c991e",
   "metadata": {},
   "source": [
    "### Variance\n",
    "Variance is another number that indicates how spread out the values are.\n",
    "\n",
    "In fact, if you take the square root of the variance, you get the standard deviation!\n",
    "\n",
    "Or the other way around, if you multiply the standard deviation by itself, you get the variance!"
   ]
  },
  {
   "cell_type": "code",
   "execution_count": 5,
   "id": "dddb353b",
   "metadata": {},
   "outputs": [
    {
     "name": "stdout",
     "output_type": "stream",
     "text": [
      "85.71597633136093\n"
     ]
    }
   ],
   "source": [
    "marks=[99,86,87,88,111,86,103,87,94,78,77,85,86]\n",
    "d=np.var(marks)\n",
    "print(d)"
   ]
  },
  {
   "cell_type": "code",
   "execution_count": 6,
   "id": "57f3b367",
   "metadata": {},
   "outputs": [
    {
     "name": "stdout",
     "output_type": "stream",
     "text": [
      "1432.2448979591834\n"
     ]
    }
   ],
   "source": [
    "marks=[32,111,138,28,59,77,97]\n",
    "e=np.var(marks)\n",
    "print(e)"
   ]
  },
  {
   "cell_type": "code",
   "execution_count": 7,
   "id": "15fcc030",
   "metadata": {},
   "outputs": [
    {
     "name": "stdout",
     "output_type": "stream",
     "text": [
      "0.8163265306122449\n"
     ]
    }
   ],
   "source": [
    "speed = [86,87,88,86,87,85,86]\n",
    "f = np.var(speed)\n",
    "print(f)"
   ]
  },
  {
   "cell_type": "code",
   "execution_count": null,
   "id": "a70f3b75",
   "metadata": {},
   "outputs": [],
   "source": []
  }
 ],
 "metadata": {
  "kernelspec": {
   "display_name": "Python 3 (ipykernel)",
   "language": "python",
   "name": "python3"
  },
  "language_info": {
   "codemirror_mode": {
    "name": "ipython",
    "version": 3
   },
   "file_extension": ".py",
   "mimetype": "text/x-python",
   "name": "python",
   "nbconvert_exporter": "python",
   "pygments_lexer": "ipython3",
   "version": "3.11.5"
  }
 },
 "nbformat": 4,
 "nbformat_minor": 5
}
