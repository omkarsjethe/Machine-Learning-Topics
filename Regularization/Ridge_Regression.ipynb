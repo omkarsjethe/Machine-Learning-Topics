{
  "nbformat": 4,
  "nbformat_minor": 0,
  "metadata": {
    "colab": {
      "provenance": []
    },
    "kernelspec": {
      "name": "python3",
      "display_name": "Python 3"
    },
    "language_info": {
      "name": "python"
    }
  },
  "cells": [
    {
      "cell_type": "markdown",
      "source": [
        "# Introduction to Ridge Regression\n",
        "**🧠 What is Ridge Regression?**\n",
        "\n",
        "Ridge Regression is a regularized version of Linear Regression. It adds a penalty to the cost function to reduce model complexity and prevent overfitting.\n",
        "\n",
        "Ridge Regression is also called L2 Regularization."
      ],
      "metadata": {
        "id": "cIWwdXeKeZpH"
      }
    },
    {
      "cell_type": "markdown",
      "source": [
        "# Why Do We Need Ridge Regression?\n",
        "**🤯 Problem with Linear Regression**\n",
        "\n",
        "If features are correlated or we have more features than samples, Linear Regression gives unstable coefficients.\n",
        "\n",
        "It may overfit the training data.\n",
        "\n",
        "**✅ Ridge Regression helps by:**\n",
        "\n",
        "Shrinking large coefficients.\n",
        "\n",
        "Reducing model variance.\n",
        "\n",
        "Making the model more robust and generalizable.\n",
        "\n"
      ],
      "metadata": {
        "id": "y2CFix2seZmU"
      }
    },
    {
      "cell_type": "code",
      "source": [
        "from sklearn.linear_model import Ridge\n",
        "from sklearn.model_selection import train_test_split\n",
        "from sklearn.datasets import make_regression\n",
        "from sklearn.metrics import mean_squared_error"
      ],
      "metadata": {
        "id": "_TGLN4DHe-cK"
      },
      "execution_count": 1,
      "outputs": []
    },
    {
      "cell_type": "code",
      "source": [
        "# Dataset\n",
        "X, y = make_regression(n_samples=100, n_features=5, noise=10)\n",
        "X_train, X_test, y_train, y_test = train_test_split(X, y, test_size=0.2)"
      ],
      "metadata": {
        "id": "iektCp5He_kF"
      },
      "execution_count": 2,
      "outputs": []
    },
    {
      "cell_type": "code",
      "source": [
        "# Ridge Regression\n",
        "model = Ridge(alpha=1.0)\n",
        "model.fit(X_train, y_train)\n",
        "y_pred = model.predict(X_test)"
      ],
      "metadata": {
        "id": "_Q8gplhgfF91"
      },
      "execution_count": 3,
      "outputs": []
    },
    {
      "cell_type": "code",
      "source": [
        "# Evaluation\n",
        "print(\"MSE:\", mean_squared_error(y_test, y_pred))\n",
        "print(\"Coefficients:\", model.coef_)"
      ],
      "metadata": {
        "colab": {
          "base_uri": "https://localhost:8080/"
        },
        "id": "2vnG3y5PfNDv",
        "outputId": "fb08a3e1-aece-40e0-c843-b7f9b767e589"
      },
      "execution_count": 4,
      "outputs": [
        {
          "output_type": "stream",
          "name": "stdout",
          "text": [
            "MSE: 104.83238376951167\n",
            "Coefficients: [89.84379612 51.540297   95.1245754  65.06355661 16.94509965]\n"
          ]
        }
      ]
    },
    {
      "cell_type": "code",
      "source": [],
      "metadata": {
        "id": "5OEw5_oFfRCP"
      },
      "execution_count": null,
      "outputs": []
    }
  ]
}