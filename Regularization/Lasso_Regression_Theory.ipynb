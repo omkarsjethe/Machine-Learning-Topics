{
  "nbformat": 4,
  "nbformat_minor": 0,
  "metadata": {
    "colab": {
      "provenance": []
    },
    "kernelspec": {
      "name": "python3",
      "display_name": "Python 3"
    },
    "language_info": {
      "name": "python"
    }
  },
  "cells": [
    {
      "cell_type": "markdown",
      "source": [
        "# 1. Introduction to Lasso Regression\n",
        "\n",
        "Lasso (Least Absolute Shrinkage and Selection Operator) is a type of linear regression that includes L1 regularization. It helps prevent overfitting and can also shrink some coefficients to exactly zero, effectively performing feature selection."
      ],
      "metadata": {
        "id": "nd8Ez3uQGzC7"
      }
    },
    {
      "cell_type": "markdown",
      "source": [
        "# 2. Why Regularization?\n",
        "When you train a model with many features, there's a chance it will fit too closely to the training data (overfit) and perform poorly on new data.\n",
        "\n",
        "**Regularization:**\n",
        "\n",
        "Adds a penalty term to the loss function.\n",
        "\n",
        "Forces the model to keep weights (coefficients) small."
      ],
      "metadata": {
        "id": "c_vju8OXGy-4"
      }
    },
    {
      "cell_type": "markdown",
      "source": [
        "# Geometric Intuition\n",
        "Lasso uses an L1-norm constraint, which forms a diamond-shaped region in the coefficient space.\n",
        "\n",
        "Because of the sharp corners of the diamond, the optimization often \"sticks\" at corners → some coefficients = 0.\n",
        "\n"
      ],
      "metadata": {
        "id": "YAzlue1qGy5e"
      }
    },
    {
      "cell_type": "markdown",
      "source": [
        "# Advantages & Disadvantages\n",
        "**✅ Advantages:**\n",
        "\n",
        "Feature selection\n",
        "\n",
        "Reduces overfitting\n",
        "\n",
        "Simple and interpretable\n",
        "\n",
        "**❌ Disadvantages:**\n",
        "\n",
        "Can be unstable when features are highly correlated\n",
        "\n",
        "Doesn’t perform group selection (only picks one of many correlated variables)"
      ],
      "metadata": {
        "id": "rFzpkASCGy3F"
      }
    },
    {
      "cell_type": "markdown",
      "source": [],
      "metadata": {
        "id": "MhQY_XfJGy0r"
      }
    },
    {
      "cell_type": "markdown",
      "source": [],
      "metadata": {
        "id": "-7pYnXVHGyxv"
      }
    },
    {
      "cell_type": "markdown",
      "source": [],
      "metadata": {
        "id": "EfyUwHE9GyvE"
      }
    },
    {
      "cell_type": "markdown",
      "source": [],
      "metadata": {
        "id": "ms91t31GGysW"
      }
    },
    {
      "cell_type": "markdown",
      "source": [],
      "metadata": {
        "id": "9RGo7UymGyqV"
      }
    },
    {
      "cell_type": "markdown",
      "source": [],
      "metadata": {
        "id": "Hrm5D9YBGybA"
      }
    },
    {
      "cell_type": "code",
      "execution_count": null,
      "metadata": {
        "id": "_5HdAb2W8nFb"
      },
      "outputs": [],
      "source": []
    }
  ]
}